{
 "cells": [
  {
   "cell_type": "code",
   "execution_count": 1,
   "metadata": {},
   "outputs": [],
   "source": [
    "%load_ext autoreload\n",
    "%autoreload 2\n",
    "%matplotlib inline\n",
    "\n",
    "# base\n",
    "import numpy as np\n",
    "import pkg_resources\n",
    "from sklearn.impute import SimpleImputer\n",
    "from pandas_plink import read_plink\n",
    "\n",
    "# viz\n",
    "import matplotlib.pyplot as plt\n",
    "import cartopy.crs as ccrs\n",
    "\n",
    "# feems\n",
    "from utils import prepare_graph_inputs\n",
    "from spatial_graph import SpatialGraph\n",
    "from viz import Viz\n",
    "from CV import run_CV\n",
    "\n",
    "# change matplotlib fonts\n",
    "plt.rcParams[\"font.family\"] = \"Arial\"\n",
    "plt.rcParams[\"font.sans-serif\"] = \"Arial\""
   ]
  },
  {
   "cell_type": "code",
   "execution_count": 2,
   "metadata": {},
   "outputs": [
    {
     "name": "stderr",
     "output_type": "stream",
     "text": [
      "Mapping files: 100%|██████████| 3/3 [00:00<00:00, 73.27it/s]\n"
     ]
    },
    {
     "name": "stdout",
     "output_type": "stream",
     "text": [
      "n_samples=111, n_snps=17729\n"
     ]
    }
   ],
   "source": [
    "# data_path = pkg_resources.resource_filename(\"feems\", \"data/\")\n",
    "data_path = \"./data\"\n",
    "\n",
    "# read the genotype data and mean impute missing data\n",
    "(bim, fam, G) = read_plink(\"{}/wolvesadmix\".format(data_path))\n",
    "imp = SimpleImputer(missing_values=np.nan, strategy=\"mean\")\n",
    "genotypes = imp.fit_transform((np.array(G)).T)\n",
    "\n",
    "print(\"n_samples={}, n_snps={}\".format(genotypes.shape[0], genotypes.shape[1]))\n",
    "\n",
    "# setup graph\n",
    "coord = np.loadtxt(\"{}/wolvesadmix.coord\".format(data_path))  # sample coordinates\n",
    "outer = np.loadtxt(\"{}/wolvesadmix.outer\".format(data_path))  # outer coordinates\n",
    "grid_path = \"{}/grid_100.shp\".format(data_path)  # path to discrete global grid\n",
    "\n",
    "# graph input files\n",
    "outer, edges, grid, _ = prepare_graph_inputs(coord=coord, \n",
    "                                             ggrid=grid_path,\n",
    "                                             translated=True, \n",
    "                                             buffer=0,\n",
    "                                             outer=outer)\n",
    "\n",
    "# spatial graph \n",
    "sp_graph = SpatialGraph(genotypes, coord, grid, edges)"
   ]
  },
  {
   "cell_type": "code",
   "execution_count": 7,
   "metadata": {},
   "outputs": [
    {
     "name": "stdout",
     "output_type": "stream",
     "text": [
      "constant-w/variance fit, converged in 132 iterations, train_loss=2795677.6543430\n",
      "\n",
      " fold= 0\n",
      "iteration lambda=3/3 alpha=3/3\n",
      " fold= 1\n",
      "iteration lambda=3/3 alpha=3/3\n",
      " fold= 2\n",
      "iteration lambda=3/3 alpha=3/3\n",
      " fold= 3\n",
      "iteration lambda=3/3 alpha=3/3\n",
      " fold= 4\n",
      "iteration lambda=3/3 alpha=3/3"
     ]
    }
   ],
   "source": [
    "# define grids\n",
    "# reverse the order of lambdas and alphas for warmstart\n",
    "lamb_grid = np.geomspace(1e-6, 1e2, 3)[::-1]\n",
    "alpha_grid = np.geomspace(1e-5, 1e2, 3)[::-1]\n",
    "\n",
    "# run cross-validation\n",
    "cv_err = run_CV(sp_graph, lamb_grid, alpha_grid)"
   ]
  },
  {
   "cell_type": "code",
   "execution_count": null,
   "metadata": {},
   "outputs": [],
   "source": []
  }
 ],
 "metadata": {
  "kernelspec": {
   "display_name": "Environment (conda_feems_e)",
   "language": "python",
   "name": "conda_feems_e"
  },
  "language_info": {
   "codemirror_mode": {
    "name": "ipython",
    "version": 3
   },
   "file_extension": ".py",
   "mimetype": "text/x-python",
   "name": "python",
   "nbconvert_exporter": "python",
   "pygments_lexer": "ipython3",
   "version": "3.7.7"
  }
 },
 "nbformat": 4,
 "nbformat_minor": 2
}
